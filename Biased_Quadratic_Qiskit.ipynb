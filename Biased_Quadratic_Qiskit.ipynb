{
  "nbformat": 4,
  "nbformat_minor": 0,
  "metadata": {
    "colab": {
      "name": "Biased_Quadratic_Qiskit.ipynb",
      "provenance": [],
      "collapsed_sections": []
    },
    "kernelspec": {
      "name": "python3",
      "display_name": "Python 3"
    },
    "language_info": {
      "name": "python"
    }
  },
  "cells": [
    {
      "cell_type": "markdown",
      "source": [
        "# **Biased Quadratic** response function via a **swap test** routine.\n",
        "\n",
        "\n",
        " \n",
        "To run without manually installing additional packages:\n",
        "\n",
        "\n",
        "*   Upload to your Google Drive account;\n",
        "*   Open with Colab;\n",
        "*   From the Runtime menu in the upper left corner, execute Run all.\n",
        "\n",
        "\n",
        "\n"
      ],
      "metadata": {
        "id": "S9mcZpXgQTbn"
      }
    },
    {
      "cell_type": "markdown",
      "source": [
        "Install Qiskit:\n",
        "\n",
        "\n"
      ],
      "metadata": {
        "id": "5yUj4cu7Q0nu"
      }
    },
    {
      "cell_type": "code",
      "execution_count": null,
      "metadata": {
        "colab": {
          "base_uri": "https://localhost:8080/"
        },
        "id": "G5_EWyBuY-Jj",
        "outputId": "c0ef0583-e059-4fa3-e286-c3d4f2fd959d"
      },
      "outputs": [
        {
          "output_type": "stream",
          "name": "stdout",
          "text": [
            "Requirement already satisfied: qiskit in /usr/local/lib/python3.7/dist-packages (0.34.1)\n",
            "Requirement already satisfied: qiskit-ibmq-provider==0.18.3 in /usr/local/lib/python3.7/dist-packages (from qiskit) (0.18.3)\n",
            "Requirement already satisfied: qiskit-ignis==0.7.0 in /usr/local/lib/python3.7/dist-packages (from qiskit) (0.7.0)\n",
            "Requirement already satisfied: qiskit-terra==0.19.1 in /usr/local/lib/python3.7/dist-packages (from qiskit) (0.19.1)\n",
            "Requirement already satisfied: qiskit-aer==0.10.2 in /usr/local/lib/python3.7/dist-packages (from qiskit) (0.10.2)\n",
            "Requirement already satisfied: scipy>=1.0 in /usr/local/lib/python3.7/dist-packages (from qiskit-aer==0.10.2->qiskit) (1.7.3)\n",
            "Requirement already satisfied: numpy>=1.16.3 in /usr/local/lib/python3.7/dist-packages (from qiskit-aer==0.10.2->qiskit) (1.19.5)\n",
            "Requirement already satisfied: websocket-client>=1.0.1 in /usr/local/lib/python3.7/dist-packages (from qiskit-ibmq-provider==0.18.3->qiskit) (1.2.3)\n",
            "Requirement already satisfied: python-dateutil>=2.8.0 in /usr/local/lib/python3.7/dist-packages (from qiskit-ibmq-provider==0.18.3->qiskit) (2.8.2)\n",
            "Requirement already satisfied: requests>=2.19 in /usr/local/lib/python3.7/dist-packages (from qiskit-ibmq-provider==0.18.3->qiskit) (2.23.0)\n",
            "Requirement already satisfied: urllib3>=1.21.1 in /usr/local/lib/python3.7/dist-packages (from qiskit-ibmq-provider==0.18.3->qiskit) (1.24.3)\n",
            "Requirement already satisfied: requests-ntlm>=1.1.0 in /usr/local/lib/python3.7/dist-packages (from qiskit-ibmq-provider==0.18.3->qiskit) (1.1.0)\n",
            "Requirement already satisfied: setuptools>=40.1.0 in /usr/local/lib/python3.7/dist-packages (from qiskit-ignis==0.7.0->qiskit) (57.4.0)\n",
            "Requirement already satisfied: retworkx>=0.8.0 in /usr/local/lib/python3.7/dist-packages (from qiskit-ignis==0.7.0->qiskit) (0.11.0)\n",
            "Requirement already satisfied: python-constraint>=1.4 in /usr/local/lib/python3.7/dist-packages (from qiskit-terra==0.19.1->qiskit) (1.4.0)\n",
            "Requirement already satisfied: tweedledum<2.0,>=1.1 in /usr/local/lib/python3.7/dist-packages (from qiskit-terra==0.19.1->qiskit) (1.1.1)\n",
            "Requirement already satisfied: sympy>=1.3 in /usr/local/lib/python3.7/dist-packages (from qiskit-terra==0.19.1->qiskit) (1.7.1)\n",
            "Requirement already satisfied: symengine>=0.8 in /usr/local/lib/python3.7/dist-packages (from qiskit-terra==0.19.1->qiskit) (0.8.1)\n",
            "Requirement already satisfied: psutil>=5 in /usr/local/lib/python3.7/dist-packages (from qiskit-terra==0.19.1->qiskit) (5.4.8)\n",
            "Requirement already satisfied: dill>=0.3 in /usr/local/lib/python3.7/dist-packages (from qiskit-terra==0.19.1->qiskit) (0.3.4)\n",
            "Requirement already satisfied: stevedore>=3.0.0 in /usr/local/lib/python3.7/dist-packages (from qiskit-terra==0.19.1->qiskit) (3.5.0)\n",
            "Requirement already satisfied: ply>=3.10 in /usr/local/lib/python3.7/dist-packages (from qiskit-terra==0.19.1->qiskit) (3.11)\n",
            "Requirement already satisfied: six>=1.5 in /usr/local/lib/python3.7/dist-packages (from python-dateutil>=2.8.0->qiskit-ibmq-provider==0.18.3->qiskit) (1.15.0)\n",
            "Requirement already satisfied: idna<3,>=2.5 in /usr/local/lib/python3.7/dist-packages (from requests>=2.19->qiskit-ibmq-provider==0.18.3->qiskit) (2.10)\n",
            "Requirement already satisfied: chardet<4,>=3.0.2 in /usr/local/lib/python3.7/dist-packages (from requests>=2.19->qiskit-ibmq-provider==0.18.3->qiskit) (3.0.4)\n",
            "Requirement already satisfied: certifi>=2017.4.17 in /usr/local/lib/python3.7/dist-packages (from requests>=2.19->qiskit-ibmq-provider==0.18.3->qiskit) (2021.10.8)\n",
            "Requirement already satisfied: cryptography>=1.3 in /usr/local/lib/python3.7/dist-packages (from requests-ntlm>=1.1.0->qiskit-ibmq-provider==0.18.3->qiskit) (36.0.1)\n",
            "Requirement already satisfied: ntlm-auth>=1.0.2 in /usr/local/lib/python3.7/dist-packages (from requests-ntlm>=1.1.0->qiskit-ibmq-provider==0.18.3->qiskit) (1.5.0)\n",
            "Requirement already satisfied: cffi>=1.12 in /usr/local/lib/python3.7/dist-packages (from cryptography>=1.3->requests-ntlm>=1.1.0->qiskit-ibmq-provider==0.18.3->qiskit) (1.15.0)\n",
            "Requirement already satisfied: pycparser in /usr/local/lib/python3.7/dist-packages (from cffi>=1.12->cryptography>=1.3->requests-ntlm>=1.1.0->qiskit-ibmq-provider==0.18.3->qiskit) (2.21)\n",
            "Requirement already satisfied: pbr!=2.1.0,>=2.0.0 in /usr/local/lib/python3.7/dist-packages (from stevedore>=3.0.0->qiskit-terra==0.19.1->qiskit) (5.8.0)\n",
            "Requirement already satisfied: importlib-metadata>=1.7.0 in /usr/local/lib/python3.7/dist-packages (from stevedore>=3.0.0->qiskit-terra==0.19.1->qiskit) (4.10.0)\n",
            "Requirement already satisfied: zipp>=0.5 in /usr/local/lib/python3.7/dist-packages (from importlib-metadata>=1.7.0->stevedore>=3.0.0->qiskit-terra==0.19.1->qiskit) (3.7.0)\n",
            "Requirement already satisfied: typing-extensions>=3.6.4 in /usr/local/lib/python3.7/dist-packages (from importlib-metadata>=1.7.0->stevedore>=3.0.0->qiskit-terra==0.19.1->qiskit) (3.10.0.2)\n",
            "Requirement already satisfied: mpmath>=0.19 in /usr/local/lib/python3.7/dist-packages (from sympy>=1.3->qiskit-terra==0.19.1->qiskit) (1.2.1)\n",
            "Requirement already satisfied: pylatexenc in /usr/local/lib/python3.7/dist-packages (2.10)\n"
          ]
        }
      ],
      "source": [
        "!pip install qiskit   # when running the code over again, comment this line, unless the kernel is restarted\n",
        "!pip install pylatexenc   # when running the code over again, comment this line, unless the kernel is restarted\n",
        "import numpy as np"
      ]
    },
    {
      "cell_type": "markdown",
      "source": [
        "Import necessary dependencies:"
      ],
      "metadata": {
        "id": "8V67wF5SRXfv"
      }
    },
    {
      "cell_type": "code",
      "source": [
        "from qiskit import QuantumCircuit, QuantumRegister, ClassicalRegister, assemble, Aer\n",
        "import numpy as np\n",
        "from qiskit.visualization import plot_histogram, plot_bloch_vector\n",
        "from math import sqrt, pi"
      ],
      "metadata": {
        "id": "JAB1XeDBZCAC"
      },
      "execution_count": null,
      "outputs": []
    },
    {
      "cell_type": "markdown",
      "source": [
        "Consider Bars-and-Stripes (BAS) samples [1] of size 2x2: \n",
        "* Samples containing horizontal bars are labeled as positive, and the remainder of the pattern are labeled as negative."
      ],
      "metadata": {
        "id": "4V8nh-gQWYTp"
      }
    },
    {
      "cell_type": "code",
      "source": [
        "train_inputs = np.array([[-1, -1, -1, -1], [-1, -1, -1, 1], [-1, -1, 1, -1], [-1, 1, -1, -1], [1, -1, -1, -1], [-1, -1, 1, 1], [-1, 1, -1, 1], [1, -1, -1, 1], [-1, 1, 1, -1], [1, -1, 1, -1], [1, 1, -1, -1], [-1, 1, 1, 1], [1, -1, 1, 1], [1, 1, -1, 1], [1, 1, 1, -1], [1, 1, 1, 1]])\n",
        "train_outputs = np.array([[-1, -1, -1, -1, -1, 1, -1, -1, -1, -1, 1, -1, -1, -1, -1, -1]]).T"
      ],
      "metadata": {
        "id": "WWdNa_jiWf6u"
      },
      "execution_count": null,
      "outputs": []
    },
    {
      "cell_type": "markdown",
      "source": [
        "The BQ response function can be implemented using the SWAP test routine [2],  summerised as follows:\n",
        "\n",
        "*   The input and the weight vectors are encoded using amplitude encoding, using separate registers, resulting in the respective quantum states \\begin{align}\\left|\\Psi_x\\right\\rangle\\end{align} and \\begin{align}\\left|\\Psi_w\\right\\rangle\\end{align}\n",
        "*   A Hadamard gate is applied on the ancilla in the first register, leading to\n",
        "\\begin{align} \\frac{1}{\\sqrt{2}} (\\left|0\\right\\rangle + \\left|1\\right\\rangle) \\left|\\Psi_w\\right\\rangle \\left|\\Psi_x\\right\\rangle \\end{align}\n",
        "*   A swap operator is applied on the two registers and we have \\begin{align} \\frac{1}{\\sqrt{2}} (\\left|0\\right\\rangle \\left|\\Psi_w\\right\\rangle \\left|\\Psi_x\\right\\rangle + \\left|1\\right\\rangle \\left|\\Psi_w\\right\\rangle \\left|\\Psi_x\\right\\rangle)\\end{align}\n",
        "*   A second Hadamard is applied to the ancilla resulting in \\begin{align} \\frac{1}{2} \\left|0\\right\\rangle \\otimes (\\left|\\Psi_w\\right\\rangle \\left|\\Psi_x\\right\\rangle +\\left|\\Psi_x\\right\\rangle \\left|\\Psi_w\\right\\rangle) + \\frac{1}{2} \\left|1\\right\\rangle \\otimes (\\left|\\Psi_w\\right\\rangle \\left|\\Psi_x\\right\\rangle -\\left|\\Psi_x\\right\\rangle \\left|\\Psi_w\\right\\rangle)\\end{align}\n",
        "\n",
        "The outcome is obtained via a projective measurement on the ancila, resulting in the acceptance probability \\begin{align} p = \\frac{1}{2} + \\frac{1}{2} \\left|⟨\\Psi_w|\\Psi_x\\right\\rangle|^2\\end{align}\n",
        "\n"
      ],
      "metadata": {
        "id": "Tmubd1_6RsQy"
      }
    },
    {
      "cell_type": "markdown",
      "source": [
        "Now let's build the circuit:"
      ],
      "metadata": {
        "id": "A4v7dd3-nx-8"
      }
    },
    {
      "cell_type": "code",
      "source": [
        "sample = 10  # select a sample in the range from 0 to 2^(2x2) - 1; note that, 5 and 10 correspond to positive samples, the remaining are negative \n",
        "\n",
        "num_qubits = 2   # 2 qubits are needed for 2x2 BAS input\n",
        "circuit1 = QuantumCircuit(num_qubits)   # amplitude encoding circuit for the input samples\n",
        "initial_state_input = train_inputs[sample]/np.sqrt(4)   # note that, the amplitudes must be normalised\n",
        "circuit1.initialize(initial_state_input, circuit1.qubits)\n",
        "\n",
        "circuit2 = QuantumCircuit(num_qubits)   # amplitude encoding circuit for the weights\n",
        "initial_state_weight = [-1, -1, 1, 1]/np.sqrt(4)   # this is the optimal weight vector for 2x2 BAS; note that, the amplitudes must be normalised  \n",
        "circuit2.initialize(initial_state_weight, circuit2.qubits)\n",
        "    \n",
        "swap_test_circuit = QuantumCircuit(2*num_qubits + 1,1)   # compiles the encoding circuits, plus adds the ancilla qubit\n",
        "swap_test_circuit.compose(circuit1, qubits=[1,2], inplace=True )\n",
        "swap_test_circuit.compose(circuit2, qubits=[3,4], inplace=True )\n",
        "\n",
        "swap_test_circuit.h(0)   # applies a Hadamard gate to the ancilla qubit\n",
        "\n",
        "for i in range(num_qubits):   # swaps the qubits in the two registers\n",
        "    swap_test_circuit.cswap(0,i+1,i+3)   \n",
        "\n",
        "swap_test_circuit.h(0)   # applies a second Hadamard gate to the ancilla qubit\n",
        "\n",
        "swap_test_circuit.measure([0],[0])   # performs a measurement on the ancilla\n",
        "\n",
        "swap_test_circuit.draw(output='mpl')   # visualise the complete circuit\n"
      ],
      "metadata": {
        "id": "chJqzXhJZPwk",
        "colab": {
          "base_uri": "https://localhost:8080/",
          "height": 322
        },
        "outputId": "a03571a3-c2a4-49ce-b7b9-e2322090d008"
      },
      "execution_count": null,
      "outputs": [
        {
          "output_type": "execute_result",
          "data": {
            "image/png": "[encoded data removed]",
            "text/plain": [
              "<Figure size 507.997x385.28 with 1 Axes>"
            ]
          },
          "metadata": {},
          "execution_count": 68
        }
      ]
    },
    {
      "cell_type": "markdown",
      "source": [
        "Run the circuit:"
      ],
      "metadata": {
        "id": "dB3JV2KaQFq_"
      }
    },
    {
      "cell_type": "code",
      "source": [
        "svsim = Aer.get_backend('aer_simulator') \n",
        "\n",
        "swap_test_circuit.save_statevector() # saves the current state vector\n",
        "qobj = assemble(swap_test_circuit) # assembles the circuit in the previous cell (i.e., serializes the operations)\n",
        "result = svsim.run(qobj).result() # runs the assembeled circuit and returns the outcomes of the measurements\n"
      ],
      "metadata": {
        "id": "eoSTk7YOZYLO"
      },
      "execution_count": null,
      "outputs": []
    },
    {
      "cell_type": "markdown",
      "source": [
        "Return the probability of a positive sample:"
      ],
      "metadata": {
        "id": "dzHbpCjvkbbx"
      }
    },
    {
      "cell_type": "code",
      "source": [
        "quantum_result = result.get_counts()\n",
        "q_key = \"0\" \n",
        "values_of_q_key = quantum_result [q_key] \n",
        "print('Quantum probability of a positive sample:', values_of_q_key/1024)   # default value for the number of repeated measurements is 1024"
      ],
      "metadata": {
        "colab": {
          "base_uri": "https://localhost:8080/"
        },
        "id": "4ADtcfm4hqgm",
        "outputId": "a0a6c633-9c89-48db-8c70-62ba2b152caa"
      },
      "execution_count": null,
      "outputs": [
        {
          "output_type": "stream",
          "name": "stdout",
          "text": [
            "Quantum probability of a positive sample: 1.0\n"
          ]
        }
      ]
    },
    {
      "cell_type": "markdown",
      "source": [
        "Compare the result obtained using the quantum routine with a classicaly computed probability. \n",
        "* If the routine is sucessful, the quantum result in the previous cell and the classicaly computed probability are similar."
      ],
      "metadata": {
        "id": "Q_iwjXTdfmIf"
      }
    },
    {
      "cell_type": "code",
      "source": [
        "classical_result = 1/2 + (1/2)*((np.dot(initial_state_input, initial_state_weight)))**2\n",
        "print('Classical probability of a positive sample:', classical_result)"
      ],
      "metadata": {
        "colab": {
          "base_uri": "https://localhost:8080/"
        },
        "id": "4Bj5_GkKY0t2",
        "outputId": "d3bfcbf4-d910-429f-df2e-837a869830c2"
      },
      "execution_count": null,
      "outputs": [
        {
          "output_type": "stream",
          "name": "stdout",
          "text": [
            "Classical probability of a positive sample: 1.0\n"
          ]
        }
      ]
    },
    {
      "cell_type": "markdown",
      "source": [
        "Reveal the true label:"
      ],
      "metadata": {
        "id": "YzarHK5agMlx"
      }
    },
    {
      "cell_type": "code",
      "source": [
        "label = 'positive' if train_outputs[sample] == 1 else 'negative'\n",
        "print('True label:', label)"
      ],
      "metadata": {
        "colab": {
          "base_uri": "https://localhost:8080/"
        },
        "id": "pKVWOF1KgPCR",
        "outputId": "58978592-144e-462f-958f-14c616432369"
      },
      "execution_count": null,
      "outputs": [
        {
          "output_type": "stream",
          "name": "stdout",
          "text": [
            "True label: positive\n"
          ]
        }
      ]
    },
    {
      "cell_type": "markdown",
      "source": [
        "# References\n",
        "\n",
        "[1]  F. Tacchino, C. Macchiavello, D. Gerace, and D. Bajoni, *An artificial neuron  implemented  on  an  actual  quantum  processor,* npj  QuantumInformation, vol. 5, no. 1, pp. 1–8, 2019.\n",
        "\n",
        "[2] M. Schuld and F. Petruccione, *Machine Learning with Quantum Computers*,    Springer, 2021."
      ],
      "metadata": {
        "id": "qC1uEelplY72"
      }
    }
  ]
}